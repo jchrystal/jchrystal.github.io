{
 "cells": [
  {
   "cell_type": "code",
   "execution_count": 1,
   "metadata": {},
   "outputs": [],
   "source": [
    "import requests"
   ]
  },
  {
   "cell_type": "code",
   "execution_count": 85,
   "metadata": {},
   "outputs": [
    {
     "data": {
      "text/plain": [
       "['https://api.data.gov/ed/collegescorecard/v1/schools.json?&_page=0&_per_page=50&2015.student.size__range=5000..&api_key=TZzGbQIxCUsSuRlsV8kGenTldy3nkn1bAQOqjezi',\n",
       " 'https://api.data.gov/ed/collegescorecard/v1/schools.json?&_page=1&_per_page=50&2015.student.size__range=5000..&api_key=TZzGbQIxCUsSuRlsV8kGenTldy3nkn1bAQOqjezi',\n",
       " 'https://api.data.gov/ed/collegescorecard/v1/schools.json?&_page=2&_per_page=50&2015.student.size__range=5000..&api_key=TZzGbQIxCUsSuRlsV8kGenTldy3nkn1bAQOqjezi',\n",
       " 'https://api.data.gov/ed/collegescorecard/v1/schools.json?&_page=3&_per_page=50&2015.student.size__range=5000..&api_key=TZzGbQIxCUsSuRlsV8kGenTldy3nkn1bAQOqjezi',\n",
       " 'https://api.data.gov/ed/collegescorecard/v1/schools.json?&_page=4&_per_page=50&2015.student.size__range=5000..&api_key=TZzGbQIxCUsSuRlsV8kGenTldy3nkn1bAQOqjezi',\n",
       " 'https://api.data.gov/ed/collegescorecard/v1/schools.json?&_page=5&_per_page=50&2015.student.size__range=5000..&api_key=TZzGbQIxCUsSuRlsV8kGenTldy3nkn1bAQOqjezi',\n",
       " 'https://api.data.gov/ed/collegescorecard/v1/schools.json?&_page=6&_per_page=50&2015.student.size__range=5000..&api_key=TZzGbQIxCUsSuRlsV8kGenTldy3nkn1bAQOqjezi',\n",
       " 'https://api.data.gov/ed/collegescorecard/v1/schools.json?&_page=7&_per_page=50&2015.student.size__range=5000..&api_key=TZzGbQIxCUsSuRlsV8kGenTldy3nkn1bAQOqjezi',\n",
       " 'https://api.data.gov/ed/collegescorecard/v1/schools.json?&_page=8&_per_page=50&2015.student.size__range=5000..&api_key=TZzGbQIxCUsSuRlsV8kGenTldy3nkn1bAQOqjezi',\n",
       " 'https://api.data.gov/ed/collegescorecard/v1/schools.json?&_page=9&_per_page=50&2015.student.size__range=5000..&api_key=TZzGbQIxCUsSuRlsV8kGenTldy3nkn1bAQOqjezi',\n",
       " 'https://api.data.gov/ed/collegescorecard/v1/schools.json?&_page=10&_per_page=50&2015.student.size__range=5000..&api_key=TZzGbQIxCUsSuRlsV8kGenTldy3nkn1bAQOqjezi',\n",
       " 'https://api.data.gov/ed/collegescorecard/v1/schools.json?&_page=11&_per_page=50&2015.student.size__range=5000..&api_key=TZzGbQIxCUsSuRlsV8kGenTldy3nkn1bAQOqjezi',\n",
       " 'https://api.data.gov/ed/collegescorecard/v1/schools.json?&_page=12&_per_page=50&2015.student.size__range=5000..&api_key=TZzGbQIxCUsSuRlsV8kGenTldy3nkn1bAQOqjezi',\n",
       " 'https://api.data.gov/ed/collegescorecard/v1/schools.json?&_page=13&_per_page=50&2015.student.size__range=5000..&api_key=TZzGbQIxCUsSuRlsV8kGenTldy3nkn1bAQOqjezi',\n",
       " 'https://api.data.gov/ed/collegescorecard/v1/schools.json?&_page=14&_per_page=50&2015.student.size__range=5000..&api_key=TZzGbQIxCUsSuRlsV8kGenTldy3nkn1bAQOqjezi',\n",
       " 'https://api.data.gov/ed/collegescorecard/v1/schools.json?&_page=15&_per_page=50&2015.student.size__range=5000..&api_key=TZzGbQIxCUsSuRlsV8kGenTldy3nkn1bAQOqjezi',\n",
       " 'https://api.data.gov/ed/collegescorecard/v1/schools.json?&_page=16&_per_page=50&2015.student.size__range=5000..&api_key=TZzGbQIxCUsSuRlsV8kGenTldy3nkn1bAQOqjezi',\n",
       " 'https://api.data.gov/ed/collegescorecard/v1/schools.json?&_page=17&_per_page=50&2015.student.size__range=5000..&api_key=TZzGbQIxCUsSuRlsV8kGenTldy3nkn1bAQOqjezi']"
      ]
     },
     "execution_count": 85,
     "metadata": {},
     "output_type": "execute_result"
    }
   ],
   "source": [
    "# Don't run this haven't tested!!!!!!!!!!!!!!!!!\n",
    "# urls = []\n",
    "\n",
    "# for i in range (0,18):\n",
    "#     page = i\n",
    "#     urls.append(\"https://api.data.gov/ed/collegescorecard/v1/schools.json?&_page=\" + str(page) + \"&_per_page=50&2015.student.size__range=5000..&api_key=TZzGbQIxCUsSuRlsV8kGenTldy3nkn1bAQOqjezi\")\n",
    "    \n",
    "# jsons = []\n",
    "\n",
    "# for url in urls:\n",
    "#     data = requests.get(url).json()\n",
    "#     jsons.append(data)"
   ]
  },
  {
   "cell_type": "code",
   "execution_count": 76,
   "metadata": {},
   "outputs": [],
   "source": [
    "college_scorecard_api = requests.get(\"https://api.data.gov/ed/collegescorecard/v1/schools.json?&_per_page=50&2015.student.size__range=5000..&api_key=TZzGbQIxCUsSuRlsV8kGenTldy3nkn1bAQOqjezi\")"
   ]
  },
  {
   "cell_type": "code",
   "execution_count": 77,
   "metadata": {},
   "outputs": [],
   "source": [
    "college_data = college_scorecard_api.json()"
   ]
  },
  {
   "cell_type": "code",
   "execution_count": 78,
   "metadata": {},
   "outputs": [
    {
     "data": {
      "text/plain": [
       "{'page': 0, 'per_page': 50, 'total': 865}"
      ]
     },
     "execution_count": 78,
     "metadata": {},
     "output_type": "execute_result"
    }
   ],
   "source": [
    "college_data['metadata']"
   ]
  },
  {
   "cell_type": "code",
   "execution_count": 81,
   "metadata": {},
   "outputs": [
    {
     "name": "stdout",
     "output_type": "stream",
     "text": [
      "Western Governors University\n",
      "54735\n",
      "--------------------\n",
      "Erie Community College\n",
      "10027\n",
      "--------------------\n",
      "The Art Institute of Pittsburgh-Online Division\n",
      "6883\n",
      "--------------------\n",
      "Grantham University\n",
      "9828\n",
      "--------------------\n",
      "Norco College\n",
      "8104\n",
      "--------------------\n",
      "Middle Georgia State University\n",
      "7225\n",
      "--------------------\n",
      "DeVry University-Illinois\n",
      "16211\n",
      "--------------------\n",
      "University of North Georgia\n",
      "16048\n",
      "--------------------\n",
      "Central Georgia Technical College\n",
      "6811\n",
      "--------------------\n",
      "College of Western Idaho\n",
      "6951\n",
      "--------------------\n",
      "Texas State Technical College\n",
      "8160\n",
      "--------------------\n",
      "University of Phoenix-Arizona\n",
      "129139\n",
      "--------------------\n",
      "Georgia Military College\n",
      "6840\n",
      "--------------------\n",
      "South Louisiana Community College\n",
      "5640\n",
      "--------------------\n",
      "American InterContinental University-Online\n",
      "10375\n",
      "--------------------\n",
      "University of California-Merced\n",
      "6237\n",
      "--------------------\n",
      "Folsom Lake College\n",
      "7966\n",
      "--------------------\n",
      "University of Arkansas\n",
      "21815\n",
      "--------------------\n",
      "California State University-Fullerton\n",
      "33009\n",
      "--------------------\n",
      "American River College\n",
      "26760\n",
      "--------------------\n",
      "California State University-San Bernardino\n",
      "17518\n",
      "--------------------\n",
      "California State University-Chico\n",
      "15903\n",
      "--------------------\n",
      "California State University-Bakersfield\n",
      "8068\n",
      "--------------------\n",
      "California State University-Stanislaus\n",
      "8093\n",
      "--------------------\n",
      "Azusa Pacific University\n",
      "5883\n",
      "--------------------\n",
      "Cabrillo College\n",
      "11696\n",
      "--------------------\n",
      "University of Alabama at Birmingham\n",
      "11269\n",
      "--------------------\n",
      "University of Alabama in Huntsville\n",
      "5829\n",
      "--------------------\n",
      "Mesa Community College\n",
      "17717\n",
      "--------------------\n",
      "Pima Community College\n",
      "19859\n",
      "--------------------\n",
      "Scottsdale Community College\n",
      "6998\n",
      "--------------------\n",
      "Phoenix College\n",
      "9745\n",
      "--------------------\n",
      "GateWay Community College\n",
      "5019\n",
      "--------------------\n",
      "Rio Salado College\n",
      "7515\n",
      "--------------------\n",
      "University of California-Santa Barbara\n",
      "20606\n",
      "--------------------\n",
      "University of California-Berkeley\n",
      "27496\n",
      "--------------------\n",
      "California State University-East Bay\n",
      "12981\n",
      "--------------------\n",
      "City College of San Francisco\n",
      "21619\n",
      "--------------------\n",
      "College of the Canyons\n",
      "16628\n",
      "--------------------\n",
      "De Anza College\n",
      "20047\n",
      "--------------------\n",
      "Cosumnes River College\n",
      "13315\n",
      "--------------------\n",
      "College of the Desert\n",
      "9516\n",
      "--------------------\n",
      "Evergreen Valley College\n",
      "7313\n",
      "--------------------\n",
      "Cuyamaca College\n",
      "7748\n",
      "--------------------\n",
      "Grossmont College\n",
      "16285\n",
      "--------------------\n",
      "Fresno City College\n",
      "19180\n",
      "--------------------\n",
      "Golden West College\n",
      "11102\n",
      "--------------------\n",
      "Irvine Valley College\n",
      "11499\n",
      "--------------------\n",
      "Hartnell College\n",
      "10384\n",
      "--------------------\n",
      "Pulaski Technical College\n",
      "6844\n",
      "--------------------\n"
     ]
    }
   ],
   "source": [
    "for i in range(len(college_data['results'])):\n",
    "    print(college_data['results'][i]['school']['name'])\n",
    "    print(college_data['results'][i]['2015']['student']['size'])\n",
    "    print(\"--------------------\")\n",
    "\n",
    "# for result in college_data['results']:\n",
    "#     print(result['school']['alias'])\n",
    "\n",
    "# len(college_data['results'])"
   ]
  },
  {
   "cell_type": "code",
   "execution_count": 70,
   "metadata": {},
   "outputs": [
    {
     "data": {
      "text/plain": [
       "{'2015_size': 17518, 'name': 'California State University-San Bernardino'}"
      ]
     },
     "execution_count": 70,
     "metadata": {},
     "output_type": "execute_result"
    }
   ],
   "source": [
    "school_1 = {\"name\": college_data['results'][0]['school']['name'],\n",
    "           \"2015_size\": college_data['results'][0]['2015']['student']['size']}\n",
    "school_1"
   ]
  },
  {
   "cell_type": "code",
   "execution_count": null,
   "metadata": {},
   "outputs": [],
   "source": []
  }
 ],
 "metadata": {
  "kernelspec": {
   "display_name": "Python 3",
   "language": "python",
   "name": "python3"
  },
  "language_info": {
   "codemirror_mode": {
    "name": "ipython",
    "version": 3
   },
   "file_extension": ".py",
   "mimetype": "text/x-python",
   "name": "python",
   "nbconvert_exporter": "python",
   "pygments_lexer": "ipython3",
   "version": "3.6.3"
  }
 },
 "nbformat": 4,
 "nbformat_minor": 2
}
